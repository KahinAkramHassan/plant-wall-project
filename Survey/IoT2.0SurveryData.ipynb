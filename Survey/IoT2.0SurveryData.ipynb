{
 "cells": [
  {
   "cell_type": "code",
   "execution_count": 6,
   "metadata": {},
   "outputs": [],
   "source": [
    "import numpy as np\n",
    "import pandas as pd"
   ]
  },
  {
   "cell_type": "code",
   "execution_count": 63,
   "metadata": {},
   "outputs": [],
   "source": [
    "data = pd.read_csv('RawSurveyData.csv', sep=';', encoding='utf-8')\n",
    "data.drop(columns=['Timestamp','Email'], axis=1, inplace=True); data\n",
    "remote_parameters_array = ['Interface','Actuators','AdditionalParameters', 'SoftwareUsed', 'VisualizationMethods', 'LiveOrHistorical','Interest','CustomizedApplication','Location']\n",
    "physical_parameters_array = ['PlanToRemoteMonitor','ParametersWantingToAnalyse','SoftwarePlanningToUse', 'FreeText', 'Location']\n",
    "\n",
    "#General Info\n",
    "countries = data['Location'].value_counts(); \n",
    "countries.to_csv('csv/location.csv',sep=',',encoding='utf-8')"
   ]
  },
  {
   "cell_type": "code",
   "execution_count": 65,
   "metadata": {},
   "outputs": [],
   "source": [
    "remote_monitoring = data[data['CurrentMaintainence'].str.contains('Remote')]\n",
    "remote_monitoring.drop(remote_monitoring.columns.difference(remote_parameters_array), axis=1, inplace=True)\n",
    "remote_monitoring.to_csv('csv/remote_monitoring.csv',sep=',',encoding='utf-8')\n",
    "#list(data)"
   ]
  },
  {
   "cell_type": "code",
   "execution_count": 66,
   "metadata": {},
   "outputs": [],
   "source": [
    "physical_monitoring = data[~data['CurrentMaintainence'].str.contains('Remote')]\n",
    "physical_monitoring.drop(physical_monitoring.columns.difference(physical_parameters_array), axis=1, inplace=True)\n",
    "\n",
    "yes_no_count = physical_monitoring['PlanToRemoteMonitor'].value_counts(); \n",
    "\n",
    "planning_to_go_remote = physical_monitoring[physical_monitoring['PlanToRemoteMonitor'].str.match('Yes')]\n",
    "planning_to_go_remote.to_csv('csv/plan_to_implement_remote.csv',sep=',', encoding='utf-8')\n",
    "\n",
    "not_planning_to_go_remote = physical_monitoring[physical_monitoring['PlanToRemoteMonitor'].str.match('No')]\n",
    "not_planning_to_go_remote.to_csv('csv/not_plan_to_implement_remote.csv',sep=',', encoding='utf-8')\n"
   ]
  },
  {
   "cell_type": "code",
   "execution_count": null,
   "metadata": {},
   "outputs": [],
   "source": []
  }
 ],
 "metadata": {
  "kernelspec": {
   "display_name": "Python 3",
   "language": "python",
   "name": "python3"
  },
  "language_info": {
   "codemirror_mode": {
    "name": "ipython",
    "version": 3
   },
   "file_extension": ".py",
   "mimetype": "text/x-python",
   "name": "python",
   "nbconvert_exporter": "python",
   "pygments_lexer": "ipython3",
   "version": "3.7.1"
  }
 },
 "nbformat": 4,
 "nbformat_minor": 2
}
